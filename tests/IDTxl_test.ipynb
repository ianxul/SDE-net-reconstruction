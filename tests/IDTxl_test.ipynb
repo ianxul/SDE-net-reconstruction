{
 "cells": [
  {
   "cell_type": "code",
   "execution_count": 1,
   "metadata": {},
   "outputs": [
    {
     "ename": "ModuleNotFoundError",
     "evalue": "No module named 'hurwitz'",
     "output_type": "error",
     "traceback": [
      "\u001b[0;31m---------------------------------------------------------------------------\u001b[0m",
      "\u001b[0;31mModuleNotFoundError\u001b[0m                       Traceback (most recent call last)",
      "\u001b[1;32m/Users/ianxul/Library/Mobile Documents/com~apple~CloudDocs/Code/CorTe-Inference/tests/IDTxl_test.ipynb Cell 1\u001b[0m in \u001b[0;36m<cell line: 6>\u001b[0;34m()\u001b[0m\n\u001b[1;32m      <a href='vscode-notebook-cell:/Users/ianxul/Library/Mobile%20Documents/com~apple~CloudDocs/Code/CorTe-Inference/tests/IDTxl_test.ipynb#W0sZmlsZQ%3D%3D?line=3'>4</a>\u001b[0m \u001b[39mimport\u001b[39;00m \u001b[39mmatplotlib\u001b[39;00m\u001b[39m.\u001b[39;00m\u001b[39mpyplot\u001b[39;00m \u001b[39mas\u001b[39;00m \u001b[39mplt\u001b[39;00m\n\u001b[1;32m      <a href='vscode-notebook-cell:/Users/ianxul/Library/Mobile%20Documents/com~apple~CloudDocs/Code/CorTe-Inference/tests/IDTxl_test.ipynb#W0sZmlsZQ%3D%3D?line=4'>5</a>\u001b[0m \u001b[39mimport\u001b[39;00m \u001b[39mnumpy\u001b[39;00m \u001b[39mas\u001b[39;00m \u001b[39mnp\u001b[39;00m\n\u001b[0;32m----> <a href='vscode-notebook-cell:/Users/ianxul/Library/Mobile%20Documents/com~apple~CloudDocs/Code/CorTe-Inference/tests/IDTxl_test.ipynb#W0sZmlsZQ%3D%3D?line=5'>6</a>\u001b[0m \u001b[39mimport\u001b[39;00m \u001b[39mhurwitz\u001b[39;00m\n\u001b[1;32m      <a href='vscode-notebook-cell:/Users/ianxul/Library/Mobile%20Documents/com~apple~CloudDocs/Code/CorTe-Inference/tests/IDTxl_test.ipynb#W0sZmlsZQ%3D%3D?line=7'>8</a>\u001b[0m \u001b[39mimport\u001b[39;00m \u001b[39mplotly\u001b[39;00m\u001b[39m.\u001b[39;00m\u001b[39mexpress\u001b[39;00m \u001b[39mas\u001b[39;00m \u001b[39mpx\u001b[39;00m\n",
      "\u001b[0;31mModuleNotFoundError\u001b[0m: No module named 'hurwitz'"
     ]
    }
   ],
   "source": [
    "from idtxl.data import Data\n",
    "from idtxl.multivariate_te import MultivariateTE\n",
    "from idtxl.visualise_graph import plot_network\n",
    "import matplotlib.pyplot as plt\n",
    "import numpy as np\n",
    "import hurwitz\n",
    "\n"
   ]
  },
  {
   "cell_type": "code",
   "execution_count": 36,
   "metadata": {},
   "outputs": [
    {
     "name": "stdout",
     "output_type": "stream",
     "text": [
      "Generating, compiling, and loading C code.\n",
      "Using default integration parameters.\n",
      "(1000, 5)\n",
      "Adding data with properties: 5 processes, 1000 samples, 1 replications\n",
      "overwriting existing data\n"
     ]
    }
   ],
   "source": [
    "A = np.matrix([\n",
    "        [-0.5,0.0, 0.0, 0.0, -1.0],\n",
    "        [-1.0, -0.5, 0.0, 0.0 ,0.0],\n",
    "        [0.0, -1.0, -0.5, 0.0, 0.0],\n",
    "        [0.0, 0.0, -1.0, -0.5, 0.0],\n",
    "        [0.0, 0.0, 0.0, -1.0, -0.5]\n",
    "    ])\n",
    "\n",
    "data_np = hurwitz.run_process(A, 500, 0.5)\n",
    "print(data_np.shape)\n",
    "dt = Data(data_np, dim_order = \"sp\")"
   ]
  },
  {
   "cell_type": "code",
   "execution_count": 37,
   "metadata": {},
   "outputs": [],
   "source": [
    "network_analysis = MultivariateTE()\n",
    "settings = {'cmi_estimator': 'JidtKraskovCMI',\n",
    "            'max_lag_sources': 2,\n",
    "            'min_lag_sources': 1,\n",
    "            'n_perm_max_stat': 1000, # Maximum test\n",
    "            'alpha_max_stat': 0.05,\n",
    "            'n_perm_min_stat': 200, # Minimum test\n",
    "            'alpha_min_stat': 0.05,\n",
    "            'n_perm_omnibus': 500, # Omnibus\n",
    "            'alpha_omnibus': 0.05,\n",
    "            'permute_in_time': True}"
   ]
  },
  {
   "cell_type": "code",
   "execution_count": 38,
   "metadata": {},
   "outputs": [
    {
     "name": "stdout",
     "output_type": "stream",
     "text": [
      "\n",
      "####### analysing target with index 0 from list [0, 1, 2, 3, 4]\n",
      "\n",
      "Target: 0 - testing sources [1, 2, 3, 4]\n",
      "\n",
      "---------------------------- (1) include target candidates\n",
      "candidate set: [(0, 1), (0, 2)]\n",
      "testing candidate: (0, 1) maximum statistic, n_perm: 1000\n",
      "testing candidate: (0, 2) maximum statistic, n_perm: 1000\n",
      " -- not significant\n",
      "\n",
      "---------------------------- (2) include source candidates\n",
      "candidate set: [(1, 1), (1, 2), (2, 1), (2, 2), (3, 1), (3, 2), (4, 1), (4, 2)]\n",
      "testing candidate: (4, 1) maximum statistic, n_perm: 1000\n",
      "testing candidate: (2, 2) maximum statistic, n_perm: 1000\n",
      " -- not significant\n",
      "\n",
      "---------------------------- (3) prune source candidate\n",
      "selected candidates: [(4, 1)]\n",
      " -- significant\n",
      "\n",
      "---------------------------- (4) final statistics\n",
      "selected variables: [(0, 1), (4, 1)]\n",
      "omnibus test, n_perm: 500\n",
      " -- significant\n",
      "\n",
      "sequential maximum statistic, n_perm: 500, testing 1 selected sources\n",
      "final source samples: [(4, 1)]\n",
      "final target samples: [(0, 1)]\n",
      "\n",
      "\n",
      "\n",
      "####### analysing target with index 1 from list [0, 1, 2, 3, 4]\n",
      "\n",
      "Target: 1 - testing sources [0, 2, 3, 4]\n",
      "\n",
      "---------------------------- (1) include target candidates\n",
      "candidate set: [(1, 1), (1, 2)]\n",
      "testing candidate: (1, 1) maximum statistic, n_perm: 1000\n",
      "testing candidate: (1, 2) maximum statistic, n_perm: 1000\n",
      " -- not significant\n",
      "\n",
      "---------------------------- (2) include source candidates\n",
      "candidate set: [(0, 1), (0, 2), (2, 1), (2, 2), (3, 1), (3, 2), (4, 1), (4, 2)]\n",
      "testing candidate: (0, 2) maximum statistic, n_perm: 1000\n",
      "testing candidate: (0, 1) maximum statistic, n_perm: 1000\n",
      "testing candidate: (4, 1) maximum statistic, n_perm: 1000\n",
      " -- not significant\n",
      "\n",
      "---------------------------- (3) prune source candidate\n",
      "selected candidates: [(0, 2), (0, 1)]\n",
      "testing candidate: (0, 2) minimum statistic, n_perm: 200\n",
      " -- significant\n",
      "\n",
      "---------------------------- (4) final statistics\n",
      "selected variables: [(1, 1), (0, 2), (0, 1)]\n",
      "omnibus test, n_perm: 500\n",
      " -- significant\n",
      "\n",
      "sequential maximum statistic, n_perm: 500, testing 2 selected sources\n",
      "final source samples: [(0, 2), (0, 1)]\n",
      "final target samples: [(1, 1)]\n",
      "\n",
      "\n",
      "\n",
      "####### analysing target with index 2 from list [0, 1, 2, 3, 4]\n",
      "\n",
      "Target: 2 - testing sources [0, 1, 3, 4]\n",
      "\n",
      "---------------------------- (1) include target candidates\n",
      "candidate set: [(2, 1), (2, 2)]\n",
      "testing candidate: (2, 1) maximum statistic, n_perm: 1000\n",
      "testing candidate: (2, 2) maximum statistic, n_perm: 1000\n",
      " -- not significant\n",
      "\n",
      "---------------------------- (2) include source candidates\n",
      "candidate set: [(0, 1), (0, 2), (1, 1), (1, 2), (3, 1), (3, 2), (4, 1), (4, 2)]\n",
      "testing candidate: (1, 2) maximum statistic, n_perm: 1000\n",
      "testing candidate: (4, 1) maximum statistic, n_perm: 1000\n",
      " -- not significant\n",
      "\n",
      "---------------------------- (3) prune source candidate\n",
      "selected candidates: [(1, 2)]\n",
      " -- significant\n",
      "\n",
      "---------------------------- (4) final statistics\n",
      "selected variables: [(2, 1), (1, 2)]\n",
      "omnibus test, n_perm: 500\n",
      " -- significant\n",
      "\n",
      "sequential maximum statistic, n_perm: 500, testing 1 selected sources\n",
      "final source samples: [(1, 2)]\n",
      "final target samples: [(2, 1)]\n",
      "\n",
      "\n",
      "\n",
      "####### analysing target with index 3 from list [0, 1, 2, 3, 4]\n",
      "\n",
      "Target: 3 - testing sources [0, 1, 2, 4]\n",
      "\n",
      "---------------------------- (1) include target candidates\n",
      "candidate set: [(3, 1), (3, 2)]\n",
      "testing candidate: (3, 1) maximum statistic, n_perm: 1000\n",
      "testing candidate: (3, 2) maximum statistic, n_perm: 1000\n",
      " -- not significant\n",
      "\n",
      "---------------------------- (2) include source candidates\n",
      "candidate set: [(0, 1), (0, 2), (1, 1), (1, 2), (2, 1), (2, 2), (4, 1), (4, 2)]\n",
      "testing candidate: (2, 2) maximum statistic, n_perm: 1000\n",
      "testing candidate: (2, 1) maximum statistic, n_perm: 1000\n",
      " -- not significant\n",
      "\n",
      "---------------------------- (3) prune source candidate\n",
      "selected candidates: [(2, 2)]\n",
      " -- significant\n",
      "\n",
      "---------------------------- (4) final statistics\n",
      "selected variables: [(3, 1), (2, 2)]\n",
      "omnibus test, n_perm: 500\n",
      " -- significant\n",
      "\n",
      "sequential maximum statistic, n_perm: 500, testing 1 selected sources\n",
      "final source samples: [(2, 2)]\n",
      "final target samples: [(3, 1)]\n",
      "\n",
      "\n",
      "\n",
      "####### analysing target with index 4 from list [0, 1, 2, 3, 4]\n",
      "\n",
      "Target: 4 - testing sources [0, 1, 2, 3]\n",
      "\n",
      "---------------------------- (1) include target candidates\n",
      "candidate set: [(4, 1), (4, 2)]\n",
      "testing candidate: (4, 1) maximum statistic, n_perm: 1000\n",
      "testing candidate: (4, 2) maximum statistic, n_perm: 1000\n",
      " -- not significant\n",
      "\n",
      "---------------------------- (2) include source candidates\n",
      "candidate set: [(0, 1), (0, 2), (1, 1), (1, 2), (2, 1), (2, 2), (3, 1), (3, 2)]\n",
      "testing candidate: (3, 1) maximum statistic, n_perm: 1000\n",
      "testing candidate: (3, 2) maximum statistic, n_perm: 1000\n",
      " -- not significant\n",
      "\n",
      "---------------------------- (3) prune source candidate\n",
      "selected candidates: [(3, 1)]\n",
      " -- significant\n",
      "\n",
      "---------------------------- (4) final statistics\n",
      "selected variables: [(4, 1), (3, 1)]\n",
      "omnibus test, n_perm: 500\n",
      " -- significant\n",
      "\n",
      "sequential maximum statistic, n_perm: 500, testing 1 selected sources\n",
      "final source samples: [(3, 1)]\n",
      "final target samples: [(4, 1)]\n",
      "\n",
      "\n"
     ]
    }
   ],
   "source": [
    "results = network_analysis.analyse_network(settings=settings, data=dt)"
   ]
  },
  {
   "cell_type": "code",
   "execution_count": 39,
   "metadata": {},
   "outputs": [
    {
     "name": "stdout",
     "output_type": "stream",
     "text": [
      "\t0 -> 1, max_te_lag: 1\n",
      "\t1 -> 2, max_te_lag: 2\n",
      "\t2 -> 3, max_te_lag: 2\n",
      "\t3 -> 4, max_te_lag: 1\n",
      "\t4 -> 0, max_te_lag: 1\n"
     ]
    },
    {
     "data": {
      "image/png": "[encoded data removed]",
      "text/plain": [
       "<Figure size 1000x500 with 3 Axes>"
      ]
     },
     "metadata": {},
     "output_type": "display_data"
    }
   ],
   "source": [
    "results.print_edge_list(weights='max_te_lag', fdr=False)\n",
    "plot_network(results=results, weights='max_te_lag', fdr=False)\n",
    "plt.show()"
   ]
  }
 ],
 "metadata": {
  "kernelspec": {
   "display_name": "Python 3.10.6 ('idtxl')",
   "language": "python",
   "name": "python3"
  },
  "language_info": {
   "codemirror_mode": {
    "name": "ipython",
    "version": 3
   },
   "file_extension": ".py",
   "mimetype": "text/x-python",
   "name": "python",
   "nbconvert_exporter": "python",
   "pygments_lexer": "ipython3",
   "version": "3.10.6 (main, Oct  7 2022, 15:17:23) [Clang 12.0.0 ]"
  },
  "orig_nbformat": 4,
  "vscode": {
   "interpreter": {
    "hash": "d83f4a8b0edddd149afc5a2044b5b3355a16eb23aef7250686e648a1d281b002"
   }
  }
 },
 "nbformat": 4,
 "nbformat_minor": 2
}
